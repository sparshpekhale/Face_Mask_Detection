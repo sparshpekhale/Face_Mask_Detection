{
 "cells": [
  {
   "cell_type": "code",
   "execution_count": 3,
   "id": "9fa7edf3",
   "metadata": {},
   "outputs": [],
   "source": [
    "import numpy as np\n",
    "import cv2"
   ]
  },
  {
   "cell_type": "code",
   "execution_count": 6,
   "id": "864054ab",
   "metadata": {},
   "outputs": [],
   "source": [
    "cap = cv2.VideoCapture(0)\n",
    "cap.set(3,640) # set Width\n",
    "cap.set(4,480) # set Height\n",
    "while(True):\n",
    "    ret, frame = cap.read()\n",
    "#     frame = cv2.flip(frame, -1) # Flip camera vertically\n",
    "#     gray = cv2.cvtColor(frame, cv2.COLOR_BGR2GRAY)\n",
    "    \n",
    "    cv2.imshow('frame', frame)\n",
    "#     cv2.imshow('gray', gray)\n",
    "    \n",
    "    k = cv2.waitKey(15) & 0xff\n",
    "    if k == 27: # press 'ESC' to quit\n",
    "        break\n",
    "cap.release()\n",
    "cv2.destroyAllWindows()"
   ]
  },
  {
   "cell_type": "markdown",
   "id": "a8a497a4",
   "metadata": {},
   "source": [
    "## Face Detection"
   ]
  },
  {
   "cell_type": "code",
   "execution_count": 15,
   "id": "49447385",
   "metadata": {},
   "outputs": [],
   "source": [
    "faceCascade = cv2.CascadeClassifier('haarcascade_frontalface_default.xml')\n",
    "\n",
    "cap = cv2.VideoCapture(0)\n",
    "cap.set(3,640) # set Width\n",
    "cap.set(4,480) # set Height\n",
    "\n",
    "while True:\n",
    "    ret, image = cap.read()\n",
    "    faces = faceCascade.detectMultiScale(\n",
    "        image\n",
    "    )\n",
    "    for (x, y, w, h) in faces:\n",
    "        cv2.rectangle(image, (x, y), (x+w, y+h), (0, 0, 255))\n",
    "        \n",
    "    cv2.imshow('video', image)\n",
    "    k = cv2.waitKey(15)\n",
    "    if k==27:\n",
    "        break\n",
    "cap.release()\n",
    "cv2.destroyAllWindows()"
   ]
  },
  {
   "cell_type": "markdown",
   "id": "f3f43627",
   "metadata": {},
   "source": [
    "## Mask detection"
   ]
  },
  {
   "cell_type": "code",
   "execution_count": 10,
   "id": "fdbf5e4e",
   "metadata": {},
   "outputs": [],
   "source": [
    "from tensorflow.keras.models import load_model"
   ]
  },
  {
   "cell_type": "code",
   "execution_count": 11,
   "id": "2c208cf0",
   "metadata": {},
   "outputs": [],
   "source": [
    "model = load_model('./models/vgg_mask.h5')"
   ]
  },
  {
   "cell_type": "code",
   "execution_count": 21,
   "id": "f6fcb2b6",
   "metadata": {},
   "outputs": [],
   "source": [
    "faceCascade = cv2.CascadeClassifier('haarcascade_frontalface_default.xml')\n",
    "\n",
    "cap = cv2.VideoCapture(0)\n",
    "cap.set(3,640) # set Width\n",
    "cap.set(4,480) # set Height\n",
    "\n",
    "while True:\n",
    "    ret, image = cap.read()\n",
    "    faces = faceCascade.detectMultiScale(\n",
    "        image\n",
    "    )\n",
    "    for (x, y, w, h) in faces:\n",
    "        crop = image[y:y+h, x:x+w]\n",
    "        resized = cv2.resize(crop, (64, 64), interpolation=cv2.INTER_AREA)\n",
    "        \n",
    "        pred = np.argmax(model.predict(resized[np.newaxis, ...]))\n",
    "        \n",
    "        cv2.rectangle(image, (x, y), (x+w, y+h), (0, 0, 255) if pred else (0, 255, 0))\n",
    "        cv2.putText(image, 'no mask' if pred else 'mask', (x, y), cv2.FONT_HERSHEY_COMPLEX, 1,\n",
    "                    (0, 0, 255) if pred else (0, 255, 0), 1, cv2.LINE_AA)\n",
    "        \n",
    "    cv2.imshow('video', image)\n",
    "    k = cv2.waitKey(15)\n",
    "    if k==27:\n",
    "        break\n",
    "cap.release()\n",
    "cv2.destroyAllWindows()"
   ]
  }
 ],
 "metadata": {
  "kernelspec": {
   "display_name": "Python 3 (ipykernel)",
   "language": "python",
   "name": "python3"
  },
  "language_info": {
   "codemirror_mode": {
    "name": "ipython",
    "version": 3
   },
   "file_extension": ".py",
   "mimetype": "text/x-python",
   "name": "python",
   "nbconvert_exporter": "python",
   "pygments_lexer": "ipython3",
   "version": "3.7.7"
  }
 },
 "nbformat": 4,
 "nbformat_minor": 5
}
