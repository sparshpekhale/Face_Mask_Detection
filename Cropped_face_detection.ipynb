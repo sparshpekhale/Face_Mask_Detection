{
 "cells": [
  {
   "cell_type": "code",
   "execution_count": 1,
   "id": "1685d32a",
   "metadata": {},
   "outputs": [],
   "source": [
    "# !kaggle datasets download -d andrewmvd/face-mask-detection\n",
    "# !jar xf face-mask-detection.zip"
   ]
  },
  {
   "cell_type": "code",
   "execution_count": 1,
   "id": "ba5f3944",
   "metadata": {},
   "outputs": [],
   "source": [
    "import numpy as np\n",
    "import pandas as pd\n",
    "import os\n",
    "import xml.etree.ElementTree as  et\n",
    "import pathlib\n",
    "import glob\n",
    "from shutil import copyfile\n",
    "\n",
    "import cv2\n",
    "import tensorflow as tf"
   ]
  },
  {
   "cell_type": "code",
   "execution_count": 13,
   "id": "86e51e9c",
   "metadata": {},
   "outputs": [
    {
     "name": "stdout",
     "output_type": "stream",
     "text": [
      "79\n",
      "185\n",
      "325\n",
      "79\n",
      "105\n",
      "185\n",
      "100\n",
      "325\n",
      "90\n"
     ]
    }
   ],
   "source": [
    "tree = et.parse('annotations/' + os.listdir('annotations/')[0])\n",
    "root = tree.getroot()\n",
    "for i in root.iter('xmin'):\n",
    "    print(i.text)\n",
    "    \n",
    "for i in root.iter('bndbox'):\n",
    "    print(i.find('xmin').text)\n",
    "    print(i.find('ymin').text)"
   ]
  },
  {
   "cell_type": "markdown",
   "id": "f4ad8409",
   "metadata": {},
   "source": [
    "## Creating Cropped Images and CSV"
   ]
  },
  {
   "cell_type": "raw",
   "id": "bcddbc02",
   "metadata": {},
   "source": [
    "df = pd.DataFrame(columns=['img_id', 'class'])\n",
    "df"
   ]
  },
  {
   "cell_type": "raw",
   "id": "bd01e948",
   "metadata": {},
   "source": [
    "SIZE = 64\n",
    "\n",
    "for imgname in os.listdir('images/'):\n",
    "    \n",
    "    img = cv2.imread('images/' + imgname)\n",
    "#     cv2.imshow(imgname, img)\n",
    "#     cv2.waitKey(0)\n",
    "    \n",
    "    tree = et.parse('annotations/' + imgname[:-3] + 'xml')\n",
    "    root = tree.getroot()\n",
    "    for i, obj in enumerate(root.iter('object')):\n",
    "        newName = imgname[:-4]+'_'+str(i)\n",
    "#         print(newName)\n",
    "        df.loc[len(df.index)] = [newName, obj.find('name').text]\n",
    "        \n",
    "        box = obj.find('bndbox')\n",
    "        xmin = int(box.find('xmin').text)\n",
    "        ymin = int(box.find('ymin').text)\n",
    "        xmax = int(box.find('xmax').text)\n",
    "        ymax = int(box.find('ymax').text)\n",
    "        \n",
    "        crop = img[ymin:ymax, xmin:xmax]\n",
    "        resize = cv2.resize(crop, (SIZE, SIZE), interpolation=cv2.INTER_AREA)\n",
    "        cv2.imwrite('cropped/'+newName+'.jpg', resize)\n",
    "#         cv2.imshow(str(i), resize)\n",
    "#         cv2.waitKey(0)\n",
    "    cv2.destroyAllWindows()"
   ]
  },
  {
   "cell_type": "raw",
   "id": "a6d71e19",
   "metadata": {},
   "source": [
    "# df.to_csv('cropped_classes.csv')"
   ]
  },
  {
   "cell_type": "code",
   "execution_count": 21,
   "id": "ee1a10c1",
   "metadata": {},
   "outputs": [
    {
     "data": {
      "text/html": [
       "<div>\n",
       "<style scoped>\n",
       "    .dataframe tbody tr th:only-of-type {\n",
       "        vertical-align: middle;\n",
       "    }\n",
       "\n",
       "    .dataframe tbody tr th {\n",
       "        vertical-align: top;\n",
       "    }\n",
       "\n",
       "    .dataframe thead th {\n",
       "        text-align: right;\n",
       "    }\n",
       "</style>\n",
       "<table border=\"1\" class=\"dataframe\">\n",
       "  <thead>\n",
       "    <tr style=\"text-align: right;\">\n",
       "      <th></th>\n",
       "      <th>Unnamed: 0</th>\n",
       "      <th>img_id</th>\n",
       "      <th>class</th>\n",
       "    </tr>\n",
       "  </thead>\n",
       "  <tbody>\n",
       "    <tr>\n",
       "      <th>0</th>\n",
       "      <td>0</td>\n",
       "      <td>maksssksksss0_0</td>\n",
       "      <td>without_mask</td>\n",
       "    </tr>\n",
       "    <tr>\n",
       "      <th>1</th>\n",
       "      <td>1</td>\n",
       "      <td>maksssksksss0_1</td>\n",
       "      <td>with_mask</td>\n",
       "    </tr>\n",
       "    <tr>\n",
       "      <th>2</th>\n",
       "      <td>2</td>\n",
       "      <td>maksssksksss0_2</td>\n",
       "      <td>without_mask</td>\n",
       "    </tr>\n",
       "    <tr>\n",
       "      <th>3</th>\n",
       "      <td>3</td>\n",
       "      <td>maksssksksss1_0</td>\n",
       "      <td>with_mask</td>\n",
       "    </tr>\n",
       "    <tr>\n",
       "      <th>4</th>\n",
       "      <td>4</td>\n",
       "      <td>maksssksksss1_1</td>\n",
       "      <td>with_mask</td>\n",
       "    </tr>\n",
       "  </tbody>\n",
       "</table>\n",
       "</div>"
      ],
      "text/plain": [
       "   Unnamed: 0           img_id         class\n",
       "0           0  maksssksksss0_0  without_mask\n",
       "1           1  maksssksksss0_1     with_mask\n",
       "2           2  maksssksksss0_2  without_mask\n",
       "3           3  maksssksksss1_0     with_mask\n",
       "4           4  maksssksksss1_1     with_mask"
      ]
     },
     "execution_count": 21,
     "metadata": {},
     "output_type": "execute_result"
    }
   ],
   "source": [
    "df = pd.read_csv('cropped_classes.csv')\n",
    "df.head()"
   ]
  },
  {
   "cell_type": "code",
   "execution_count": 39,
   "id": "92d49f3f",
   "metadata": {},
   "outputs": [
    {
     "data": {
      "text/plain": [
       "3257"
      ]
     },
     "execution_count": 39,
     "metadata": {},
     "output_type": "execute_result"
    }
   ],
   "source": [
    "int(df.__len__()*0.8)"
   ]
  },
  {
   "cell_type": "code",
   "execution_count": 44,
   "id": "6e2a21ba",
   "metadata": {},
   "outputs": [],
   "source": [
    "# for i in df.values[:1]:\n",
    "#     print(i)\n",
    "#     copyfile('cropped/'+i[1]+'.jpg', 'train/'+i[2]+'/'+i[1]+'.jpg')"
   ]
  },
  {
   "cell_type": "raw",
   "id": "35c75594",
   "metadata": {},
   "source": [
    "for i in df.values[:3257]:\n",
    "    copyfile('cropped/'+i[1]+'.jpg', 'train/'+i[2]+'/'+i[1]+'.jpg')\n",
    "    \n",
    "for i in df.values[3257:]:\n",
    "    copyfile('cropped/'+i[1]+'.jpg', 'test/'+i[2]+'/'+i[1]+'.jpg')"
   ]
  },
  {
   "cell_type": "code",
   "execution_count": null,
   "id": "37c98b64",
   "metadata": {},
   "outputs": [],
   "source": []
  },
  {
   "cell_type": "markdown",
   "id": "800c5bc5",
   "metadata": {},
   "source": [
    "## Generator"
   ]
  },
  {
   "cell_type": "code",
   "execution_count": 2,
   "id": "a4a95f54",
   "metadata": {},
   "outputs": [],
   "source": [
    "train_dg = tf.keras.preprocessing.image.ImageDataGenerator(\n",
    "    rescale=1./255,\n",
    "    shear_range=0.2,\n",
    "    rotation_range=20,\n",
    "    horizontal_flip=True,\n",
    "    vertical_flip=True\n",
    ")\n",
    "\n",
    "test_dg = tf.keras.preprocessing.image.ImageDataGenerator(\n",
    "    rescale=1./255\n",
    ")"
   ]
  },
  {
   "cell_type": "code",
   "execution_count": 74,
   "id": "1cc8d50c",
   "metadata": {},
   "outputs": [
    {
     "name": "stdout",
     "output_type": "stream",
     "text": [
      "Found 3257 images belonging to 3 classes.\n",
      "Found 815 images belonging to 3 classes.\n"
     ]
    }
   ],
   "source": [
    "train_gen = train_dg.flow_from_directory(\n",
    "    'train',\n",
    "    target_size=(224, 224),\n",
    "    batch_size=32,\n",
    "    class_mode='categorical'\n",
    ")\n",
    "\n",
    "test_gen = train_dg.flow_from_directory(\n",
    "    'test',\n",
    "    target_size=(224, 224),\n",
    "    batch_size=32,\n",
    "    class_mode='categorical'\n",
    ")"
   ]
  },
  {
   "cell_type": "code",
   "execution_count": 75,
   "id": "3507f825",
   "metadata": {},
   "outputs": [
    {
     "data": {
      "text/plain": [
       "({'mask_weared_incorrect': 0, 'with_mask': 1, 'without_mask': 2},\n",
       " {'mask_weared_incorrect': 0, 'with_mask': 1, 'without_mask': 2})"
      ]
     },
     "execution_count": 75,
     "metadata": {},
     "output_type": "execute_result"
    }
   ],
   "source": [
    "train_gen.class_indices, test_gen.class_indices"
   ]
  },
  {
   "cell_type": "code",
   "execution_count": 92,
   "id": "5cd8688d",
   "metadata": {},
   "outputs": [
    {
     "name": "stdout",
     "output_type": "stream",
     "text": [
      "Downloading data from https://storage.googleapis.com/tensorflow/keras-applications/resnet/resnet50v2_weights_tf_dim_ordering_tf_kernels_notop.h5\n",
      "94674944/94668760 [==============================] - 22s 0us/step\n"
     ]
    }
   ],
   "source": [
    "resnet = tf.keras.applications.ResNet50V2(input_shape=(224, 224, 3), weights='imagenet', include_top=False)\n",
    "for layer in resnet.layers:\n",
    "    layer.trainable = False"
   ]
  },
  {
   "cell_type": "code",
   "execution_count": 93,
   "id": "aaebffdf",
   "metadata": {},
   "outputs": [],
   "source": [
    "x = tf.keras.layers.Flatten()(resnet.output)\n",
    "pred_layer = tf.keras.layers.Dense(3, activation='softmax')(x)"
   ]
  },
  {
   "cell_type": "code",
   "execution_count": 94,
   "id": "ff72ce31",
   "metadata": {
    "scrolled": true
   },
   "outputs": [],
   "source": [
    "model = tf.keras.models.Model(inputs=resnet.input, outputs=pred_layer)\n",
    "# model.summary()"
   ]
  },
  {
   "cell_type": "code",
   "execution_count": 95,
   "id": "aa1a5a46",
   "metadata": {},
   "outputs": [],
   "source": [
    "model.compile(optimizer='adam', loss='categorical_crossentropy', metrics=['accuracy'])"
   ]
  },
  {
   "cell_type": "code",
   "execution_count": 96,
   "id": "db8e41d7",
   "metadata": {},
   "outputs": [
    {
     "name": "stdout",
     "output_type": "stream",
     "text": [
      "Epoch 1/5\n",
      "50/50 [==============================] - 27s 484ms/step - loss: 3.3108 - accuracy: 0.7621 - val_loss: 1.2569 - val_accuracy: 0.9166\n",
      "Epoch 2/5\n",
      "50/50 [==============================] - 23s 459ms/step - loss: 1.0047 - accuracy: 0.9159 - val_loss: 1.4752 - val_accuracy: 0.8847\n",
      "Epoch 3/5\n",
      "50/50 [==============================] - 23s 462ms/step - loss: 0.9390 - accuracy: 0.9182 - val_loss: 0.9459 - val_accuracy: 0.9153\n",
      "Epoch 4/5\n",
      "50/50 [==============================] - 24s 479ms/step - loss: 1.1111 - accuracy: 0.9056 - val_loss: 1.2075 - val_accuracy: 0.9215\n",
      "Epoch 5/5\n",
      "50/50 [==============================] - 24s 483ms/step - loss: 1.0215 - accuracy: 0.9294 - val_loss: 1.2592 - val_accuracy: 0.9104\n"
     ]
    }
   ],
   "source": [
    "history = model.fit(train_gen, validation_data=test_gen, epochs=5, steps_per_epoch=50)"
   ]
  },
  {
   "cell_type": "code",
   "execution_count": 97,
   "id": "612d994e",
   "metadata": {},
   "outputs": [
    {
     "data": {
      "application/javascript": [
       "\n",
       "        if (window._pyforest_update_imports_cell) { window._pyforest_update_imports_cell('import matplotlib.pyplot as plt'); }\n",
       "    "
      ],
      "text/plain": [
       "<IPython.core.display.Javascript object>"
      ]
     },
     "metadata": {},
     "output_type": "display_data"
    },
    {
     "data": {
      "application/javascript": [
       "\n",
       "        if (window._pyforest_update_imports_cell) { window._pyforest_update_imports_cell('import matplotlib.pyplot as plt'); }\n",
       "    "
      ],
      "text/plain": [
       "<IPython.core.display.Javascript object>"
      ]
     },
     "metadata": {},
     "output_type": "display_data"
    },
    {
     "data": {
      "application/javascript": [
       "\n",
       "        if (window._pyforest_update_imports_cell) { window._pyforest_update_imports_cell('import matplotlib.pyplot as plt'); }\n",
       "    "
      ],
      "text/plain": [
       "<IPython.core.display.Javascript object>"
      ]
     },
     "metadata": {},
     "output_type": "display_data"
    },
    {
     "data": {
      "application/javascript": [
       "\n",
       "        if (window._pyforest_update_imports_cell) { window._pyforest_update_imports_cell('import matplotlib.pyplot as plt'); }\n",
       "    "
      ],
      "text/plain": [
       "<IPython.core.display.Javascript object>"
      ]
     },
     "metadata": {},
     "output_type": "display_data"
    },
    {
     "data": {
      "image/png": "[encoded data removed]",
      "text/plain": [
       "<Figure size 432x288 with 1 Axes>"
      ]
     },
     "metadata": {
      "needs_background": "light"
     },
     "output_type": "display_data"
    },
    {
     "data": {
      "application/javascript": [
       "\n",
       "        if (window._pyforest_update_imports_cell) { window._pyforest_update_imports_cell('import matplotlib.pyplot as plt'); }\n",
       "    "
      ],
      "text/plain": [
       "<IPython.core.display.Javascript object>"
      ]
     },
     "metadata": {},
     "output_type": "display_data"
    },
    {
     "data": {
      "application/javascript": [
       "\n",
       "        if (window._pyforest_update_imports_cell) { window._pyforest_update_imports_cell('import matplotlib.pyplot as plt'); }\n",
       "    "
      ],
      "text/plain": [
       "<IPython.core.display.Javascript object>"
      ]
     },
     "metadata": {},
     "output_type": "display_data"
    },
    {
     "data": {
      "application/javascript": [
       "\n",
       "        if (window._pyforest_update_imports_cell) { window._pyforest_update_imports_cell('import matplotlib.pyplot as plt'); }\n",
       "    "
      ],
      "text/plain": [
       "<IPython.core.display.Javascript object>"
      ]
     },
     "metadata": {},
     "output_type": "display_data"
    },
    {
     "data": {
      "text/plain": [
       "<matplotlib.legend.Legend at 0x1dcf0eb8808>"
      ]
     },
     "execution_count": 97,
     "metadata": {},
     "output_type": "execute_result"
    },
    {
     "data": {
      "image/png": "[encoded data removed]",
      "text/plain": [
       "<Figure size 432x288 with 1 Axes>"
      ]
     },
     "metadata": {
      "needs_background": "light"
     },
     "output_type": "display_data"
    }
   ],
   "source": [
    "plt.plot(history.history['loss'], label = 'train loss')\n",
    "plt.plot(history.history['val_loss'], label='val loss')\n",
    "plt.legend()\n",
    "plt.show()\n",
    "\n",
    "plt.plot(history.history['accuracy'], label = 'train acc')\n",
    "plt.plot(history.history['val_accuracy'], label='val acc')\n",
    "plt.legend()"
   ]
  },
  {
   "cell_type": "code",
   "execution_count": 98,
   "id": "11d6fdc2",
   "metadata": {},
   "outputs": [],
   "source": [
    "# model.save('models/resnet50v2.h5')"
   ]
  }
 ],
 "metadata": {
  "kernelspec": {
   "display_name": "Python 3 (ipykernel)",
   "language": "python",
   "name": "python3"
  },
  "language_info": {
   "codemirror_mode": {
    "name": "ipython",
    "version": 3
   },
   "file_extension": ".py",
   "mimetype": "text/x-python",
   "name": "python",
   "nbconvert_exporter": "python",
   "pygments_lexer": "ipython3",
   "version": "3.7.7"
  }
 },
 "nbformat": 4,
 "nbformat_minor": 5
}
